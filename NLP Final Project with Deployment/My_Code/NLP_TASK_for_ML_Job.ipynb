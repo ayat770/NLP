{
  "cells": [
    {
      "cell_type": "markdown",
      "source": [
        "## Ayat_Qabeel_NLP_Task \n",
        "#### Hello everyone in this task I will develop a model that takes a text of an address and verify if this address is in the Cairo governorate or not"
      ],
      "metadata": {
        "id": "6fKXhyewBqL6"
      }
    },
    {
      "cell_type": "markdown",
      "source": [
        "#### Let's start installing our packages"
      ],
      "metadata": {
        "id": "77xpbARGG88X"
      }
    },
    {
      "cell_type": "code",
      "execution_count": 42,
      "metadata": {
        "colab": {
          "base_uri": "https://localhost:8080/"
        },
        "id": "Sy6MSOPmmw2k",
        "outputId": "855ab09a-1ea1-4f4a-8779-38b4c3c2057a"
      },
      "outputs": [
        {
          "output_type": "stream",
          "name": "stdout",
          "text": [
            "Looking in indexes: https://pypi.org/simple, https://us-python.pkg.dev/colab-wheels/public/simple/\n",
            "Requirement already satisfied: spacy in /usr/local/lib/python3.7/dist-packages (3.3.1)\n",
            "Requirement already satisfied: packaging>=20.0 in /usr/local/lib/python3.7/dist-packages (from spacy) (21.3)\n",
            "Requirement already satisfied: thinc<8.1.0,>=8.0.14 in /usr/local/lib/python3.7/dist-packages (from spacy) (8.0.17)\n",
            "Requirement already satisfied: pydantic!=1.8,!=1.8.1,<1.9.0,>=1.7.4 in /usr/local/lib/python3.7/dist-packages (from spacy) (1.8.2)\n",
            "Requirement already satisfied: typing-extensions<4.2.0,>=3.7.4 in /usr/local/lib/python3.7/dist-packages (from spacy) (4.1.1)\n",
            "Requirement already satisfied: blis<0.8.0,>=0.4.0 in /usr/local/lib/python3.7/dist-packages (from spacy) (0.7.7)\n",
            "Requirement already satisfied: requests<3.0.0,>=2.13.0 in /usr/local/lib/python3.7/dist-packages (from spacy) (2.23.0)\n",
            "Requirement already satisfied: numpy>=1.15.0 in /usr/local/lib/python3.7/dist-packages (from spacy) (1.21.6)\n",
            "Requirement already satisfied: catalogue<2.1.0,>=2.0.6 in /usr/local/lib/python3.7/dist-packages (from spacy) (2.0.7)\n",
            "Requirement already satisfied: pathy>=0.3.5 in /usr/local/lib/python3.7/dist-packages (from spacy) (0.6.1)\n",
            "Requirement already satisfied: typer<0.5.0,>=0.3.0 in /usr/local/lib/python3.7/dist-packages (from spacy) (0.4.1)\n",
            "Requirement already satisfied: tqdm<5.0.0,>=4.38.0 in /usr/local/lib/python3.7/dist-packages (from spacy) (4.64.0)\n",
            "Requirement already satisfied: setuptools in /usr/local/lib/python3.7/dist-packages (from spacy) (57.4.0)\n",
            "Requirement already satisfied: jinja2 in /usr/local/lib/python3.7/dist-packages (from spacy) (2.11.3)\n",
            "Requirement already satisfied: langcodes<4.0.0,>=3.2.0 in /usr/local/lib/python3.7/dist-packages (from spacy) (3.3.0)\n",
            "Requirement already satisfied: murmurhash<1.1.0,>=0.28.0 in /usr/local/lib/python3.7/dist-packages (from spacy) (1.0.7)\n",
            "Requirement already satisfied: preshed<3.1.0,>=3.0.2 in /usr/local/lib/python3.7/dist-packages (from spacy) (3.0.6)\n",
            "Requirement already satisfied: spacy-legacy<3.1.0,>=3.0.9 in /usr/local/lib/python3.7/dist-packages (from spacy) (3.0.9)\n",
            "Requirement already satisfied: spacy-loggers<2.0.0,>=1.0.0 in /usr/local/lib/python3.7/dist-packages (from spacy) (1.0.2)\n",
            "Requirement already satisfied: srsly<3.0.0,>=2.4.3 in /usr/local/lib/python3.7/dist-packages (from spacy) (2.4.3)\n",
            "Requirement already satisfied: cymem<2.1.0,>=2.0.2 in /usr/local/lib/python3.7/dist-packages (from spacy) (2.0.6)\n",
            "Requirement already satisfied: wasabi<1.1.0,>=0.9.1 in /usr/local/lib/python3.7/dist-packages (from spacy) (0.9.1)\n",
            "Requirement already satisfied: zipp>=0.5 in /usr/local/lib/python3.7/dist-packages (from catalogue<2.1.0,>=2.0.6->spacy) (3.8.0)\n",
            "Requirement already satisfied: pyparsing!=3.0.5,>=2.0.2 in /usr/local/lib/python3.7/dist-packages (from packaging>=20.0->spacy) (3.0.9)\n",
            "Requirement already satisfied: smart-open<6.0.0,>=5.0.0 in /usr/local/lib/python3.7/dist-packages (from pathy>=0.3.5->spacy) (5.2.1)\n",
            "Requirement already satisfied: certifi>=2017.4.17 in /usr/local/lib/python3.7/dist-packages (from requests<3.0.0,>=2.13.0->spacy) (2022.6.15)\n",
            "Requirement already satisfied: idna<3,>=2.5 in /usr/local/lib/python3.7/dist-packages (from requests<3.0.0,>=2.13.0->spacy) (2.10)\n",
            "Requirement already satisfied: urllib3!=1.25.0,!=1.25.1,<1.26,>=1.21.1 in /usr/local/lib/python3.7/dist-packages (from requests<3.0.0,>=2.13.0->spacy) (1.24.3)\n",
            "Requirement already satisfied: chardet<4,>=3.0.2 in /usr/local/lib/python3.7/dist-packages (from requests<3.0.0,>=2.13.0->spacy) (3.0.4)\n",
            "Requirement already satisfied: click<9.0.0,>=7.1.1 in /usr/local/lib/python3.7/dist-packages (from typer<0.5.0,>=0.3.0->spacy) (7.1.2)\n",
            "Requirement already satisfied: MarkupSafe>=0.23 in /usr/local/lib/python3.7/dist-packages (from jinja2->spacy) (2.0.1)\n"
          ]
        }
      ],
      "source": [
        "!pip3 install spacy\n"
      ]
    },
    {
      "cell_type": "code",
      "execution_count": 43,
      "metadata": {
        "id": "FxvSB8q-m6Ye",
        "colab": {
          "base_uri": "https://localhost:8080/"
        },
        "outputId": "88380563-ff30-4092-99f8-3dfdb7fcc54d"
      },
      "outputs": [
        {
          "output_type": "stream",
          "name": "stdout",
          "text": [
            "Looking in indexes: https://pypi.org/simple, https://us-python.pkg.dev/colab-wheels/public/simple/\n",
            "Collecting en-core-web-md==3.3.0\n",
            "  Downloading https://github.com/explosion/spacy-models/releases/download/en_core_web_md-3.3.0/en_core_web_md-3.3.0-py3-none-any.whl (33.5 MB)\n",
            "\u001b[K     |████████████████████████████████| 33.5 MB 1.3 MB/s \n",
            "\u001b[?25hRequirement already satisfied: spacy<3.4.0,>=3.3.0.dev0 in /usr/local/lib/python3.7/dist-packages (from en-core-web-md==3.3.0) (3.3.1)\n",
            "Requirement already satisfied: srsly<3.0.0,>=2.4.3 in /usr/local/lib/python3.7/dist-packages (from spacy<3.4.0,>=3.3.0.dev0->en-core-web-md==3.3.0) (2.4.3)\n",
            "Requirement already satisfied: pydantic!=1.8,!=1.8.1,<1.9.0,>=1.7.4 in /usr/local/lib/python3.7/dist-packages (from spacy<3.4.0,>=3.3.0.dev0->en-core-web-md==3.3.0) (1.8.2)\n",
            "Requirement already satisfied: tqdm<5.0.0,>=4.38.0 in /usr/local/lib/python3.7/dist-packages (from spacy<3.4.0,>=3.3.0.dev0->en-core-web-md==3.3.0) (4.64.0)\n",
            "Requirement already satisfied: murmurhash<1.1.0,>=0.28.0 in /usr/local/lib/python3.7/dist-packages (from spacy<3.4.0,>=3.3.0.dev0->en-core-web-md==3.3.0) (1.0.7)\n",
            "Requirement already satisfied: catalogue<2.1.0,>=2.0.6 in /usr/local/lib/python3.7/dist-packages (from spacy<3.4.0,>=3.3.0.dev0->en-core-web-md==3.3.0) (2.0.7)\n",
            "Requirement already satisfied: typer<0.5.0,>=0.3.0 in /usr/local/lib/python3.7/dist-packages (from spacy<3.4.0,>=3.3.0.dev0->en-core-web-md==3.3.0) (0.4.1)\n",
            "Requirement already satisfied: typing-extensions<4.2.0,>=3.7.4 in /usr/local/lib/python3.7/dist-packages (from spacy<3.4.0,>=3.3.0.dev0->en-core-web-md==3.3.0) (4.1.1)\n",
            "Requirement already satisfied: jinja2 in /usr/local/lib/python3.7/dist-packages (from spacy<3.4.0,>=3.3.0.dev0->en-core-web-md==3.3.0) (2.11.3)\n",
            "Requirement already satisfied: pathy>=0.3.5 in /usr/local/lib/python3.7/dist-packages (from spacy<3.4.0,>=3.3.0.dev0->en-core-web-md==3.3.0) (0.6.1)\n",
            "Requirement already satisfied: spacy-loggers<2.0.0,>=1.0.0 in /usr/local/lib/python3.7/dist-packages (from spacy<3.4.0,>=3.3.0.dev0->en-core-web-md==3.3.0) (1.0.2)\n",
            "Requirement already satisfied: numpy>=1.15.0 in /usr/local/lib/python3.7/dist-packages (from spacy<3.4.0,>=3.3.0.dev0->en-core-web-md==3.3.0) (1.21.6)\n",
            "Requirement already satisfied: preshed<3.1.0,>=3.0.2 in /usr/local/lib/python3.7/dist-packages (from spacy<3.4.0,>=3.3.0.dev0->en-core-web-md==3.3.0) (3.0.6)\n",
            "Requirement already satisfied: langcodes<4.0.0,>=3.2.0 in /usr/local/lib/python3.7/dist-packages (from spacy<3.4.0,>=3.3.0.dev0->en-core-web-md==3.3.0) (3.3.0)\n",
            "Requirement already satisfied: blis<0.8.0,>=0.4.0 in /usr/local/lib/python3.7/dist-packages (from spacy<3.4.0,>=3.3.0.dev0->en-core-web-md==3.3.0) (0.7.7)\n",
            "Requirement already satisfied: thinc<8.1.0,>=8.0.14 in /usr/local/lib/python3.7/dist-packages (from spacy<3.4.0,>=3.3.0.dev0->en-core-web-md==3.3.0) (8.0.17)\n",
            "Requirement already satisfied: setuptools in /usr/local/lib/python3.7/dist-packages (from spacy<3.4.0,>=3.3.0.dev0->en-core-web-md==3.3.0) (57.4.0)\n",
            "Requirement already satisfied: cymem<2.1.0,>=2.0.2 in /usr/local/lib/python3.7/dist-packages (from spacy<3.4.0,>=3.3.0.dev0->en-core-web-md==3.3.0) (2.0.6)\n",
            "Requirement already satisfied: wasabi<1.1.0,>=0.9.1 in /usr/local/lib/python3.7/dist-packages (from spacy<3.4.0,>=3.3.0.dev0->en-core-web-md==3.3.0) (0.9.1)\n",
            "Requirement already satisfied: requests<3.0.0,>=2.13.0 in /usr/local/lib/python3.7/dist-packages (from spacy<3.4.0,>=3.3.0.dev0->en-core-web-md==3.3.0) (2.23.0)\n",
            "Requirement already satisfied: packaging>=20.0 in /usr/local/lib/python3.7/dist-packages (from spacy<3.4.0,>=3.3.0.dev0->en-core-web-md==3.3.0) (21.3)\n",
            "Requirement already satisfied: spacy-legacy<3.1.0,>=3.0.9 in /usr/local/lib/python3.7/dist-packages (from spacy<3.4.0,>=3.3.0.dev0->en-core-web-md==3.3.0) (3.0.9)\n",
            "Requirement already satisfied: zipp>=0.5 in /usr/local/lib/python3.7/dist-packages (from catalogue<2.1.0,>=2.0.6->spacy<3.4.0,>=3.3.0.dev0->en-core-web-md==3.3.0) (3.8.0)\n",
            "Requirement already satisfied: pyparsing!=3.0.5,>=2.0.2 in /usr/local/lib/python3.7/dist-packages (from packaging>=20.0->spacy<3.4.0,>=3.3.0.dev0->en-core-web-md==3.3.0) (3.0.9)\n",
            "Requirement already satisfied: smart-open<6.0.0,>=5.0.0 in /usr/local/lib/python3.7/dist-packages (from pathy>=0.3.5->spacy<3.4.0,>=3.3.0.dev0->en-core-web-md==3.3.0) (5.2.1)\n",
            "Requirement already satisfied: certifi>=2017.4.17 in /usr/local/lib/python3.7/dist-packages (from requests<3.0.0,>=2.13.0->spacy<3.4.0,>=3.3.0.dev0->en-core-web-md==3.3.0) (2022.6.15)\n",
            "Requirement already satisfied: chardet<4,>=3.0.2 in /usr/local/lib/python3.7/dist-packages (from requests<3.0.0,>=2.13.0->spacy<3.4.0,>=3.3.0.dev0->en-core-web-md==3.3.0) (3.0.4)\n",
            "Requirement already satisfied: urllib3!=1.25.0,!=1.25.1,<1.26,>=1.21.1 in /usr/local/lib/python3.7/dist-packages (from requests<3.0.0,>=2.13.0->spacy<3.4.0,>=3.3.0.dev0->en-core-web-md==3.3.0) (1.24.3)\n",
            "Requirement already satisfied: idna<3,>=2.5 in /usr/local/lib/python3.7/dist-packages (from requests<3.0.0,>=2.13.0->spacy<3.4.0,>=3.3.0.dev0->en-core-web-md==3.3.0) (2.10)\n",
            "Requirement already satisfied: click<9.0.0,>=7.1.1 in /usr/local/lib/python3.7/dist-packages (from typer<0.5.0,>=0.3.0->spacy<3.4.0,>=3.3.0.dev0->en-core-web-md==3.3.0) (7.1.2)\n",
            "Requirement already satisfied: MarkupSafe>=0.23 in /usr/local/lib/python3.7/dist-packages (from jinja2->spacy<3.4.0,>=3.3.0.dev0->en-core-web-md==3.3.0) (2.0.1)\n",
            "\u001b[38;5;2m✔ Download and installation successful\u001b[0m\n",
            "You can now load the package via spacy.load('en_core_web_md')\n"
          ]
        }
      ],
      "source": [
        "!python -m spacy download en_core_web_md"
      ]
    },
    {
      "cell_type": "markdown",
      "source": [
        "#### Import packages"
      ],
      "metadata": {
        "id": "0sX8t1DQH7uI"
      }
    },
    {
      "cell_type": "code",
      "execution_count": 44,
      "metadata": {
        "id": "qKudv-zpXAyr"
      },
      "outputs": [],
      "source": [
        "import spacy\n",
        "from tqdm.auto import tqdm\n",
        "import pandas as pd\n",
        "import numpy as np\n",
        "import seaborn as sns\n",
        "import matplotlib.pyplot as plt"
      ]
    },
    {
      "cell_type": "markdown",
      "source": [
        "#### upload the data"
      ],
      "metadata": {
        "id": "NHVlGM6HITEu"
      }
    },
    {
      "cell_type": "code",
      "execution_count": 45,
      "metadata": {
        "id": "euWXTqB4ai1Y"
      },
      "outputs": [],
      "source": [
        "data = pd.read_csv(\"/content/drive/MyDrive/Colab Notebooks/Data Files/address.csv\")"
      ]
    },
    {
      "cell_type": "code",
      "execution_count": 46,
      "metadata": {
        "colab": {
          "base_uri": "https://localhost:8080/",
          "height": 363
        },
        "id": "UHoVJ8ZbbCNe",
        "outputId": "cae41dfa-99eb-4246-c2d8-333fae914fe1"
      },
      "outputs": [
        {
          "output_type": "execute_result",
          "data": {
            "text/plain": [
              "  ISO Country                  Region                  City  Postcode  \\\n",
              "0  EG   Egypt  Al Sharqia Governorate  10th of Ramadan City   44629.0   \n",
              "1  EG   Egypt  Al Sharqia Governorate  10th of Ramadan City   44629.0   \n",
              "2  EG   Egypt  Al Sharqia Governorate  10th of Ramadan City   44629.0   \n",
              "3  EG   Egypt  Al Sharqia Governorate  10th of Ramadan City   44629.0   \n",
              "4  EG   Egypt  Al Sharqia Governorate  10th of Ramadan City   44634.0   \n",
              "5  EG   Egypt  Al Sharqia Governorate  10th of Ramadan City   44629.0   \n",
              "6  EG   Egypt  Al Sharqia Governorate  10th of Ramadan City   44629.0   \n",
              "7  EG   Egypt  Al Sharqia Governorate  10th of Ramadan City   44629.0   \n",
              "8  EG   Egypt  Al Sharqia Governorate  10th of Ramadan City   44634.0   \n",
              "9  EG   Egypt  Al Sharqia Governorate  10th of Ramadan City   44629.0   \n",
              "\n",
              "                          Street   Latitude  Longitude  \n",
              "0        Ahmed Ibn Hanbal Street  30.300077  31.779970  \n",
              "1       Al Imam Al Shafie Street  30.299554  31.759393  \n",
              "2              Asad Allah Street  30.299746  31.755107  \n",
              "3  Belbes - 10th of Ramadan Road  30.297967  31.677971  \n",
              "4              Masr Al Nour Road  30.297831  31.685978  \n",
              "5           Mohamed Hafez Street  30.299745  31.744319  \n",
              "6    Omar Ibn Abd Al Aziz Street  30.299877  31.740031  \n",
              "7      Omar Ibn Al Khatab Street  30.300369  31.729908  \n",
              "8      Omar Ibn Al Khatab Street  30.299382  31.725197  \n",
              "9        Othman Ibn Affan Street  30.297660  31.697372  "
            ],
            "text/html": [
              "\n",
              "  <div id=\"df-de81a42e-89a6-4c8e-9f8f-f7243c079688\">\n",
              "    <div class=\"colab-df-container\">\n",
              "      <div>\n",
              "<style scoped>\n",
              "    .dataframe tbody tr th:only-of-type {\n",
              "        vertical-align: middle;\n",
              "    }\n",
              "\n",
              "    .dataframe tbody tr th {\n",
              "        vertical-align: top;\n",
              "    }\n",
              "\n",
              "    .dataframe thead th {\n",
              "        text-align: right;\n",
              "    }\n",
              "</style>\n",
              "<table border=\"1\" class=\"dataframe\">\n",
              "  <thead>\n",
              "    <tr style=\"text-align: right;\">\n",
              "      <th></th>\n",
              "      <th>ISO</th>\n",
              "      <th>Country</th>\n",
              "      <th>Region</th>\n",
              "      <th>City</th>\n",
              "      <th>Postcode</th>\n",
              "      <th>Street</th>\n",
              "      <th>Latitude</th>\n",
              "      <th>Longitude</th>\n",
              "    </tr>\n",
              "  </thead>\n",
              "  <tbody>\n",
              "    <tr>\n",
              "      <th>0</th>\n",
              "      <td>EG</td>\n",
              "      <td>Egypt</td>\n",
              "      <td>Al Sharqia Governorate</td>\n",
              "      <td>10th of Ramadan City</td>\n",
              "      <td>44629.0</td>\n",
              "      <td>Ahmed Ibn Hanbal Street</td>\n",
              "      <td>30.300077</td>\n",
              "      <td>31.779970</td>\n",
              "    </tr>\n",
              "    <tr>\n",
              "      <th>1</th>\n",
              "      <td>EG</td>\n",
              "      <td>Egypt</td>\n",
              "      <td>Al Sharqia Governorate</td>\n",
              "      <td>10th of Ramadan City</td>\n",
              "      <td>44629.0</td>\n",
              "      <td>Al Imam Al Shafie Street</td>\n",
              "      <td>30.299554</td>\n",
              "      <td>31.759393</td>\n",
              "    </tr>\n",
              "    <tr>\n",
              "      <th>2</th>\n",
              "      <td>EG</td>\n",
              "      <td>Egypt</td>\n",
              "      <td>Al Sharqia Governorate</td>\n",
              "      <td>10th of Ramadan City</td>\n",
              "      <td>44629.0</td>\n",
              "      <td>Asad Allah Street</td>\n",
              "      <td>30.299746</td>\n",
              "      <td>31.755107</td>\n",
              "    </tr>\n",
              "    <tr>\n",
              "      <th>3</th>\n",
              "      <td>EG</td>\n",
              "      <td>Egypt</td>\n",
              "      <td>Al Sharqia Governorate</td>\n",
              "      <td>10th of Ramadan City</td>\n",
              "      <td>44629.0</td>\n",
              "      <td>Belbes - 10th of Ramadan Road</td>\n",
              "      <td>30.297967</td>\n",
              "      <td>31.677971</td>\n",
              "    </tr>\n",
              "    <tr>\n",
              "      <th>4</th>\n",
              "      <td>EG</td>\n",
              "      <td>Egypt</td>\n",
              "      <td>Al Sharqia Governorate</td>\n",
              "      <td>10th of Ramadan City</td>\n",
              "      <td>44634.0</td>\n",
              "      <td>Masr Al Nour Road</td>\n",
              "      <td>30.297831</td>\n",
              "      <td>31.685978</td>\n",
              "    </tr>\n",
              "    <tr>\n",
              "      <th>5</th>\n",
              "      <td>EG</td>\n",
              "      <td>Egypt</td>\n",
              "      <td>Al Sharqia Governorate</td>\n",
              "      <td>10th of Ramadan City</td>\n",
              "      <td>44629.0</td>\n",
              "      <td>Mohamed Hafez Street</td>\n",
              "      <td>30.299745</td>\n",
              "      <td>31.744319</td>\n",
              "    </tr>\n",
              "    <tr>\n",
              "      <th>6</th>\n",
              "      <td>EG</td>\n",
              "      <td>Egypt</td>\n",
              "      <td>Al Sharqia Governorate</td>\n",
              "      <td>10th of Ramadan City</td>\n",
              "      <td>44629.0</td>\n",
              "      <td>Omar Ibn Abd Al Aziz Street</td>\n",
              "      <td>30.299877</td>\n",
              "      <td>31.740031</td>\n",
              "    </tr>\n",
              "    <tr>\n",
              "      <th>7</th>\n",
              "      <td>EG</td>\n",
              "      <td>Egypt</td>\n",
              "      <td>Al Sharqia Governorate</td>\n",
              "      <td>10th of Ramadan City</td>\n",
              "      <td>44629.0</td>\n",
              "      <td>Omar Ibn Al Khatab Street</td>\n",
              "      <td>30.300369</td>\n",
              "      <td>31.729908</td>\n",
              "    </tr>\n",
              "    <tr>\n",
              "      <th>8</th>\n",
              "      <td>EG</td>\n",
              "      <td>Egypt</td>\n",
              "      <td>Al Sharqia Governorate</td>\n",
              "      <td>10th of Ramadan City</td>\n",
              "      <td>44634.0</td>\n",
              "      <td>Omar Ibn Al Khatab Street</td>\n",
              "      <td>30.299382</td>\n",
              "      <td>31.725197</td>\n",
              "    </tr>\n",
              "    <tr>\n",
              "      <th>9</th>\n",
              "      <td>EG</td>\n",
              "      <td>Egypt</td>\n",
              "      <td>Al Sharqia Governorate</td>\n",
              "      <td>10th of Ramadan City</td>\n",
              "      <td>44629.0</td>\n",
              "      <td>Othman Ibn Affan Street</td>\n",
              "      <td>30.297660</td>\n",
              "      <td>31.697372</td>\n",
              "    </tr>\n",
              "  </tbody>\n",
              "</table>\n",
              "</div>\n",
              "      <button class=\"colab-df-convert\" onclick=\"convertToInteractive('df-de81a42e-89a6-4c8e-9f8f-f7243c079688')\"\n",
              "              title=\"Convert this dataframe to an interactive table.\"\n",
              "              style=\"display:none;\">\n",
              "        \n",
              "  <svg xmlns=\"http://www.w3.org/2000/svg\" height=\"24px\"viewBox=\"0 0 24 24\"\n",
              "       width=\"24px\">\n",
              "    <path d=\"M0 0h24v24H0V0z\" fill=\"none\"/>\n",
              "    <path d=\"M18.56 5.44l.94 2.06.94-2.06 2.06-.94-2.06-.94-.94-2.06-.94 2.06-2.06.94zm-11 1L8.5 8.5l.94-2.06 2.06-.94-2.06-.94L8.5 2.5l-.94 2.06-2.06.94zm10 10l.94 2.06.94-2.06 2.06-.94-2.06-.94-.94-2.06-.94 2.06-2.06.94z\"/><path d=\"M17.41 7.96l-1.37-1.37c-.4-.4-.92-.59-1.43-.59-.52 0-1.04.2-1.43.59L10.3 9.45l-7.72 7.72c-.78.78-.78 2.05 0 2.83L4 21.41c.39.39.9.59 1.41.59.51 0 1.02-.2 1.41-.59l7.78-7.78 2.81-2.81c.8-.78.8-2.07 0-2.86zM5.41 20L4 18.59l7.72-7.72 1.47 1.35L5.41 20z\"/>\n",
              "  </svg>\n",
              "      </button>\n",
              "      \n",
              "  <style>\n",
              "    .colab-df-container {\n",
              "      display:flex;\n",
              "      flex-wrap:wrap;\n",
              "      gap: 12px;\n",
              "    }\n",
              "\n",
              "    .colab-df-convert {\n",
              "      background-color: #E8F0FE;\n",
              "      border: none;\n",
              "      border-radius: 50%;\n",
              "      cursor: pointer;\n",
              "      display: none;\n",
              "      fill: #1967D2;\n",
              "      height: 32px;\n",
              "      padding: 0 0 0 0;\n",
              "      width: 32px;\n",
              "    }\n",
              "\n",
              "    .colab-df-convert:hover {\n",
              "      background-color: #E2EBFA;\n",
              "      box-shadow: 0px 1px 2px rgba(60, 64, 67, 0.3), 0px 1px 3px 1px rgba(60, 64, 67, 0.15);\n",
              "      fill: #174EA6;\n",
              "    }\n",
              "\n",
              "    [theme=dark] .colab-df-convert {\n",
              "      background-color: #3B4455;\n",
              "      fill: #D2E3FC;\n",
              "    }\n",
              "\n",
              "    [theme=dark] .colab-df-convert:hover {\n",
              "      background-color: #434B5C;\n",
              "      box-shadow: 0px 1px 3px 1px rgba(0, 0, 0, 0.15);\n",
              "      filter: drop-shadow(0px 1px 2px rgba(0, 0, 0, 0.3));\n",
              "      fill: #FFFFFF;\n",
              "    }\n",
              "  </style>\n",
              "\n",
              "      <script>\n",
              "        const buttonEl =\n",
              "          document.querySelector('#df-de81a42e-89a6-4c8e-9f8f-f7243c079688 button.colab-df-convert');\n",
              "        buttonEl.style.display =\n",
              "          google.colab.kernel.accessAllowed ? 'block' : 'none';\n",
              "\n",
              "        async function convertToInteractive(key) {\n",
              "          const element = document.querySelector('#df-de81a42e-89a6-4c8e-9f8f-f7243c079688');\n",
              "          const dataTable =\n",
              "            await google.colab.kernel.invokeFunction('convertToInteractive',\n",
              "                                                     [key], {});\n",
              "          if (!dataTable) return;\n",
              "\n",
              "          const docLinkHtml = 'Like what you see? Visit the ' +\n",
              "            '<a target=\"_blank\" href=https://colab.research.google.com/notebooks/data_table.ipynb>data table notebook</a>'\n",
              "            + ' to learn more about interactive tables.';\n",
              "          element.innerHTML = '';\n",
              "          dataTable['output_type'] = 'display_data';\n",
              "          await google.colab.output.renderOutput(dataTable, element);\n",
              "          const docLink = document.createElement('div');\n",
              "          docLink.innerHTML = docLinkHtml;\n",
              "          element.appendChild(docLink);\n",
              "        }\n",
              "      </script>\n",
              "    </div>\n",
              "  </div>\n",
              "  "
            ]
          },
          "metadata": {},
          "execution_count": 46
        }
      ],
      "source": [
        "data.head(10)"
      ]
    },
    {
      "cell_type": "markdown",
      "source": [
        " We see the data with columns like (ISO, Country,\tRegion,\tCity,\tPostcode,\tStreet,\tLatitude,\tLongitude), but we need only (street and City) so, Let's make this\n"
      ],
      "metadata": {
        "id": "EKC4MgFUIk1Y"
      }
    },
    {
      "cell_type": "code",
      "execution_count": 47,
      "metadata": {
        "id": "XPK4dYYJy2Xa"
      },
      "outputs": [],
      "source": [
        "dataset = data[[\"Street\",\"City\"]]\n"
      ]
    },
    {
      "cell_type": "code",
      "execution_count": 48,
      "metadata": {
        "colab": {
          "base_uri": "https://localhost:8080/",
          "height": 206
        },
        "id": "MJ_L0Rzny2Y-",
        "outputId": "a8f58dc3-4c8e-4611-e90c-7309822cd438"
      },
      "outputs": [
        {
          "output_type": "execute_result",
          "data": {
            "text/plain": [
              "                          Street                  City\n",
              "0        Ahmed Ibn Hanbal Street  10th of Ramadan City\n",
              "1       Al Imam Al Shafie Street  10th of Ramadan City\n",
              "2              Asad Allah Street  10th of Ramadan City\n",
              "3  Belbes - 10th of Ramadan Road  10th of Ramadan City\n",
              "4              Masr Al Nour Road  10th of Ramadan City"
            ],
            "text/html": [
              "\n",
              "  <div id=\"df-054a999b-e73f-41e0-83b0-1c01cf68e1ea\">\n",
              "    <div class=\"colab-df-container\">\n",
              "      <div>\n",
              "<style scoped>\n",
              "    .dataframe tbody tr th:only-of-type {\n",
              "        vertical-align: middle;\n",
              "    }\n",
              "\n",
              "    .dataframe tbody tr th {\n",
              "        vertical-align: top;\n",
              "    }\n",
              "\n",
              "    .dataframe thead th {\n",
              "        text-align: right;\n",
              "    }\n",
              "</style>\n",
              "<table border=\"1\" class=\"dataframe\">\n",
              "  <thead>\n",
              "    <tr style=\"text-align: right;\">\n",
              "      <th></th>\n",
              "      <th>Street</th>\n",
              "      <th>City</th>\n",
              "    </tr>\n",
              "  </thead>\n",
              "  <tbody>\n",
              "    <tr>\n",
              "      <th>0</th>\n",
              "      <td>Ahmed Ibn Hanbal Street</td>\n",
              "      <td>10th of Ramadan City</td>\n",
              "    </tr>\n",
              "    <tr>\n",
              "      <th>1</th>\n",
              "      <td>Al Imam Al Shafie Street</td>\n",
              "      <td>10th of Ramadan City</td>\n",
              "    </tr>\n",
              "    <tr>\n",
              "      <th>2</th>\n",
              "      <td>Asad Allah Street</td>\n",
              "      <td>10th of Ramadan City</td>\n",
              "    </tr>\n",
              "    <tr>\n",
              "      <th>3</th>\n",
              "      <td>Belbes - 10th of Ramadan Road</td>\n",
              "      <td>10th of Ramadan City</td>\n",
              "    </tr>\n",
              "    <tr>\n",
              "      <th>4</th>\n",
              "      <td>Masr Al Nour Road</td>\n",
              "      <td>10th of Ramadan City</td>\n",
              "    </tr>\n",
              "  </tbody>\n",
              "</table>\n",
              "</div>\n",
              "      <button class=\"colab-df-convert\" onclick=\"convertToInteractive('df-054a999b-e73f-41e0-83b0-1c01cf68e1ea')\"\n",
              "              title=\"Convert this dataframe to an interactive table.\"\n",
              "              style=\"display:none;\">\n",
              "        \n",
              "  <svg xmlns=\"http://www.w3.org/2000/svg\" height=\"24px\"viewBox=\"0 0 24 24\"\n",
              "       width=\"24px\">\n",
              "    <path d=\"M0 0h24v24H0V0z\" fill=\"none\"/>\n",
              "    <path d=\"M18.56 5.44l.94 2.06.94-2.06 2.06-.94-2.06-.94-.94-2.06-.94 2.06-2.06.94zm-11 1L8.5 8.5l.94-2.06 2.06-.94-2.06-.94L8.5 2.5l-.94 2.06-2.06.94zm10 10l.94 2.06.94-2.06 2.06-.94-2.06-.94-.94-2.06-.94 2.06-2.06.94z\"/><path d=\"M17.41 7.96l-1.37-1.37c-.4-.4-.92-.59-1.43-.59-.52 0-1.04.2-1.43.59L10.3 9.45l-7.72 7.72c-.78.78-.78 2.05 0 2.83L4 21.41c.39.39.9.59 1.41.59.51 0 1.02-.2 1.41-.59l7.78-7.78 2.81-2.81c.8-.78.8-2.07 0-2.86zM5.41 20L4 18.59l7.72-7.72 1.47 1.35L5.41 20z\"/>\n",
              "  </svg>\n",
              "      </button>\n",
              "      \n",
              "  <style>\n",
              "    .colab-df-container {\n",
              "      display:flex;\n",
              "      flex-wrap:wrap;\n",
              "      gap: 12px;\n",
              "    }\n",
              "\n",
              "    .colab-df-convert {\n",
              "      background-color: #E8F0FE;\n",
              "      border: none;\n",
              "      border-radius: 50%;\n",
              "      cursor: pointer;\n",
              "      display: none;\n",
              "      fill: #1967D2;\n",
              "      height: 32px;\n",
              "      padding: 0 0 0 0;\n",
              "      width: 32px;\n",
              "    }\n",
              "\n",
              "    .colab-df-convert:hover {\n",
              "      background-color: #E2EBFA;\n",
              "      box-shadow: 0px 1px 2px rgba(60, 64, 67, 0.3), 0px 1px 3px 1px rgba(60, 64, 67, 0.15);\n",
              "      fill: #174EA6;\n",
              "    }\n",
              "\n",
              "    [theme=dark] .colab-df-convert {\n",
              "      background-color: #3B4455;\n",
              "      fill: #D2E3FC;\n",
              "    }\n",
              "\n",
              "    [theme=dark] .colab-df-convert:hover {\n",
              "      background-color: #434B5C;\n",
              "      box-shadow: 0px 1px 3px 1px rgba(0, 0, 0, 0.15);\n",
              "      filter: drop-shadow(0px 1px 2px rgba(0, 0, 0, 0.3));\n",
              "      fill: #FFFFFF;\n",
              "    }\n",
              "  </style>\n",
              "\n",
              "      <script>\n",
              "        const buttonEl =\n",
              "          document.querySelector('#df-054a999b-e73f-41e0-83b0-1c01cf68e1ea button.colab-df-convert');\n",
              "        buttonEl.style.display =\n",
              "          google.colab.kernel.accessAllowed ? 'block' : 'none';\n",
              "\n",
              "        async function convertToInteractive(key) {\n",
              "          const element = document.querySelector('#df-054a999b-e73f-41e0-83b0-1c01cf68e1ea');\n",
              "          const dataTable =\n",
              "            await google.colab.kernel.invokeFunction('convertToInteractive',\n",
              "                                                     [key], {});\n",
              "          if (!dataTable) return;\n",
              "\n",
              "          const docLinkHtml = 'Like what you see? Visit the ' +\n",
              "            '<a target=\"_blank\" href=https://colab.research.google.com/notebooks/data_table.ipynb>data table notebook</a>'\n",
              "            + ' to learn more about interactive tables.';\n",
              "          element.innerHTML = '';\n",
              "          dataTable['output_type'] = 'display_data';\n",
              "          await google.colab.output.renderOutput(dataTable, element);\n",
              "          const docLink = document.createElement('div');\n",
              "          docLink.innerHTML = docLinkHtml;\n",
              "          element.appendChild(docLink);\n",
              "        }\n",
              "      </script>\n",
              "    </div>\n",
              "  </div>\n",
              "  "
            ]
          },
          "metadata": {},
          "execution_count": 48
        }
      ],
      "source": [
        "dataset.head()"
      ]
    },
    {
      "cell_type": "markdown",
      "source": [
        "What is en_core_web_md ?\n",
        "it's a medium English pipeline trained on written web text (blogs, news, comments), that includes vocabulary, syntax and entities."
      ],
      "metadata": {
        "id": "QhEdpXFXJvsu"
      }
    },
    {
      "cell_type": "code",
      "execution_count": 49,
      "metadata": {
        "id": "1dTNmpM5aBsw"
      },
      "outputs": [],
      "source": [
        "nlp = spacy.load(\"en_core_web_md\")"
      ]
    },
    {
      "cell_type": "markdown",
      "source": [
        "let's make a vector for each word  in the sentence like \"Ayat Qabeel\" --> [Ayat, v], [Qabeel, v] -> \"2 words\" \"2 vectors\" . But we have sentences of different sizes in our data so,we make a Padding ---> We will choose the longest sentence to make a matrix on our code\n"
      ],
      "metadata": {
        "id": "TCwuRF46LIft"
      }
    },
    {
      "cell_type": "code",
      "execution_count": 50,
      "metadata": {
        "id": "919ExnGVmRiw"
      },
      "outputs": [],
      "source": [
        "def get_longest_text(texts):\n",
        "    longest_input = 0\n",
        "    for text in texts:\n",
        "        text_len= len(text.split())\n",
        "        longest_input = max(longest_input, text_len)\n",
        "    return longest_input"
      ]
    },
    {
      "cell_type": "code",
      "execution_count": 51,
      "metadata": {
        "colab": {
          "base_uri": "https://localhost:8080/"
        },
        "id": "Nn6cTat5n4-r",
        "outputId": "72385310-3d9c-4c41-9255-4b6c23009883"
      },
      "outputs": [
        {
          "output_type": "execute_result",
          "data": {
            "text/plain": [
              "9"
            ]
          },
          "metadata": {},
          "execution_count": 51
        }
      ],
      "source": [
        "longest_input = get_longest_text(dataset['Street'])\n",
        "longest_input"
      ]
    },
    {
      "cell_type": "code",
      "source": [
        "longest_input = 11"
      ],
      "metadata": {
        "id": "QUOkLeFwJhDW"
      },
      "execution_count": 52,
      "outputs": []
    },
    {
      "cell_type": "code",
      "execution_count": 53,
      "metadata": {
        "colab": {
          "base_uri": "https://localhost:8080/",
          "height": 49,
          "referenced_widgets": [
            "ad7ebc090684485791b684c3df3f3071",
            "ea4b5d95c4834f2d8f936565dafc92f1",
            "15fc3b9673184e918592b92dfda14cb1",
            "e5548f782fbe4fa885cfe857ba93b378",
            "a17086d57e8340fab1f5742cf4c9820a",
            "be707fff63174435a23ed02716432862",
            "50b57618fcad4f5eabb22baf50d10b4a",
            "d7c3a483db264d12bdca12b734003750",
            "4a093955072e4211b11026d007da4b31",
            "d2d07471a92a4c5faf1ee87880a9a4a0",
            "099e0caf3f3246ad891c163ffdf09617"
          ]
        },
        "id": "75QcOt8-n5A-",
        "outputId": "9069e5ca-2960-460a-9bf5-c4686ad4509e"
      },
      "outputs": [
        {
          "output_type": "display_data",
          "data": {
            "text/plain": [
              "  0%|          | 0/149 [00:00<?, ?it/s]"
            ],
            "application/vnd.jupyter.widget-view+json": {
              "version_major": 2,
              "version_minor": 0,
              "model_id": "ad7ebc090684485791b684c3df3f3071"
            }
          },
          "metadata": {}
        }
      ],
      "source": [
        "data_emb = np.zeros((len(dataset), longest_input, 300))\n",
        "for i, text in enumerate(tqdm(nlp.pipe(dataset['Street']), total=len(dataset))):\n",
        "    for j, token in enumerate(text):\n",
        "        data_emb[i, j] = token.vector"
      ]
    },
    {
      "cell_type": "code",
      "execution_count": 54,
      "metadata": {
        "id": "l6swu_LZn5EV"
      },
      "outputs": [],
      "source": [
        "# prepare y\n",
        "from sklearn.preprocessing import LabelEncoder\n",
        "from tensorflow.keras.utils import to_categorical\n",
        "\n",
        "encoder = LabelEncoder()\n",
        "y_encoded = encoder.fit_transform(dataset['City'])\n",
        "y_encoded = to_categorical(y_encoded)"
      ]
    },
    {
      "cell_type": "code",
      "execution_count": 55,
      "metadata": {
        "colab": {
          "base_uri": "https://localhost:8080/"
        },
        "id": "5Lr1V4Exp5AV",
        "outputId": "2a15c1b2-b549-4af7-85a5-7c529a975d49"
      },
      "outputs": [
        {
          "output_type": "execute_result",
          "data": {
            "text/plain": [
              "array([[1., 0., 0., 0., 0., 0., 0., 0., 0., 0., 0., 0., 0., 0., 0., 0.,\n",
              "        0., 0., 0., 0., 0., 0., 0., 0., 0., 0., 0., 0., 0., 0., 0., 0.,\n",
              "        0., 0., 0., 0., 0., 0., 0., 0., 0., 0., 0., 0., 0., 0., 0., 0.,\n",
              "        0., 0., 0., 0.],\n",
              "       [1., 0., 0., 0., 0., 0., 0., 0., 0., 0., 0., 0., 0., 0., 0., 0.,\n",
              "        0., 0., 0., 0., 0., 0., 0., 0., 0., 0., 0., 0., 0., 0., 0., 0.,\n",
              "        0., 0., 0., 0., 0., 0., 0., 0., 0., 0., 0., 0., 0., 0., 0., 0.,\n",
              "        0., 0., 0., 0.],\n",
              "       [1., 0., 0., 0., 0., 0., 0., 0., 0., 0., 0., 0., 0., 0., 0., 0.,\n",
              "        0., 0., 0., 0., 0., 0., 0., 0., 0., 0., 0., 0., 0., 0., 0., 0.,\n",
              "        0., 0., 0., 0., 0., 0., 0., 0., 0., 0., 0., 0., 0., 0., 0., 0.,\n",
              "        0., 0., 0., 0.],\n",
              "       [1., 0., 0., 0., 0., 0., 0., 0., 0., 0., 0., 0., 0., 0., 0., 0.,\n",
              "        0., 0., 0., 0., 0., 0., 0., 0., 0., 0., 0., 0., 0., 0., 0., 0.,\n",
              "        0., 0., 0., 0., 0., 0., 0., 0., 0., 0., 0., 0., 0., 0., 0., 0.,\n",
              "        0., 0., 0., 0.],\n",
              "       [1., 0., 0., 0., 0., 0., 0., 0., 0., 0., 0., 0., 0., 0., 0., 0.,\n",
              "        0., 0., 0., 0., 0., 0., 0., 0., 0., 0., 0., 0., 0., 0., 0., 0.,\n",
              "        0., 0., 0., 0., 0., 0., 0., 0., 0., 0., 0., 0., 0., 0., 0., 0.,\n",
              "        0., 0., 0., 0.],\n",
              "       [1., 0., 0., 0., 0., 0., 0., 0., 0., 0., 0., 0., 0., 0., 0., 0.,\n",
              "        0., 0., 0., 0., 0., 0., 0., 0., 0., 0., 0., 0., 0., 0., 0., 0.,\n",
              "        0., 0., 0., 0., 0., 0., 0., 0., 0., 0., 0., 0., 0., 0., 0., 0.,\n",
              "        0., 0., 0., 0.],\n",
              "       [1., 0., 0., 0., 0., 0., 0., 0., 0., 0., 0., 0., 0., 0., 0., 0.,\n",
              "        0., 0., 0., 0., 0., 0., 0., 0., 0., 0., 0., 0., 0., 0., 0., 0.,\n",
              "        0., 0., 0., 0., 0., 0., 0., 0., 0., 0., 0., 0., 0., 0., 0., 0.,\n",
              "        0., 0., 0., 0.],\n",
              "       [1., 0., 0., 0., 0., 0., 0., 0., 0., 0., 0., 0., 0., 0., 0., 0.,\n",
              "        0., 0., 0., 0., 0., 0., 0., 0., 0., 0., 0., 0., 0., 0., 0., 0.,\n",
              "        0., 0., 0., 0., 0., 0., 0., 0., 0., 0., 0., 0., 0., 0., 0., 0.,\n",
              "        0., 0., 0., 0.],\n",
              "       [1., 0., 0., 0., 0., 0., 0., 0., 0., 0., 0., 0., 0., 0., 0., 0.,\n",
              "        0., 0., 0., 0., 0., 0., 0., 0., 0., 0., 0., 0., 0., 0., 0., 0.,\n",
              "        0., 0., 0., 0., 0., 0., 0., 0., 0., 0., 0., 0., 0., 0., 0., 0.,\n",
              "        0., 0., 0., 0.],\n",
              "       [1., 0., 0., 0., 0., 0., 0., 0., 0., 0., 0., 0., 0., 0., 0., 0.,\n",
              "        0., 0., 0., 0., 0., 0., 0., 0., 0., 0., 0., 0., 0., 0., 0., 0.,\n",
              "        0., 0., 0., 0., 0., 0., 0., 0., 0., 0., 0., 0., 0., 0., 0., 0.,\n",
              "        0., 0., 0., 0.]], dtype=float32)"
            ]
          },
          "metadata": {},
          "execution_count": 55
        }
      ],
      "source": [
        "y_encoded[:10]"
      ]
    },
    {
      "cell_type": "markdown",
      "source": [
        "#### Let's start building our model"
      ],
      "metadata": {
        "id": "fmZNVmfcOa1s"
      }
    },
    {
      "cell_type": "code",
      "execution_count": 56,
      "metadata": {
        "id": "3_Ts1rBKp88k"
      },
      "outputs": [],
      "source": [
        "import tensorflow as tf\n",
        "\n",
        "# define the network\n",
        "inputs = tf.keras.layers.Input((longest_input, 300))\n",
        "reshaped = tf.keras.layers.Reshape((longest_input, 300, 1))(inputs)\n",
        "\n",
        "\n",
        "filters = [2, 3, 4]\n",
        "\n",
        "# define the conv net\n",
        "conv_1 = tf.keras.layers.Conv2D(100, (filters[0], 300), activation='relu')(reshaped)\n",
        "conv_2 = tf.keras.layers.Conv2D(100, (filters[1], 300), activation='relu')(reshaped)\n",
        "conv_3 = tf.keras.layers.Conv2D(100, (filters[2], 300), activation='relu')(reshaped)\n",
        "\n",
        "# define max-pooling\n",
        "pool_1 = tf.keras.layers.MaxPooling2D((longest_input - filters[0] + 1, 1), strides=(1,1))(conv_1)\n",
        "pool_2 = tf.keras.layers.MaxPooling2D((longest_input - filters[1] + 1, 1), strides=(1,1))(conv_2)\n",
        "pool_3 = tf.keras.layers.MaxPooling2D((longest_input - filters[2] + 1, 1), strides=(1,1))(conv_3)\n",
        "\n",
        "# concatenate the convs\n",
        "merged_tensor = tf.keras.layers.concatenate([pool_1, pool_2, pool_3], axis=1)\n",
        "\n",
        "# now flatten them and add a dense layer\n",
        "flatten = tf.keras.layers.Flatten()(merged_tensor)\n",
        "\n",
        "# add a dense layer\n",
        "clf = tf.keras.layers.Dense(100, activation='relu')(flatten)\n",
        "\n",
        "# add final output\n",
        "clf = tf.keras.layers.Dense(len(encoder.classes_), activation='softmax')(clf)"
      ]
    },
    {
      "cell_type": "markdown",
      "source": [
        "#### compile the model"
      ],
      "metadata": {
        "id": "KH0DO8zCPhuQ"
      }
    },
    {
      "cell_type": "code",
      "execution_count": 57,
      "metadata": {
        "colab": {
          "base_uri": "https://localhost:8080/"
        },
        "id": "opBccS8kqQnN",
        "outputId": "6d9eb5e0-3e17-4168-ea6a-60a96c9b4c3d"
      },
      "outputs": [
        {
          "output_type": "stream",
          "name": "stdout",
          "text": [
            "Model: \"model_1\"\n",
            "__________________________________________________________________________________________________\n",
            " Layer (type)                   Output Shape         Param #     Connected to                     \n",
            "==================================================================================================\n",
            " input_2 (InputLayer)           [(None, 11, 300)]    0           []                               \n",
            "                                                                                                  \n",
            " reshape_1 (Reshape)            (None, 11, 300, 1)   0           ['input_2[0][0]']                \n",
            "                                                                                                  \n",
            " conv2d_3 (Conv2D)              (None, 10, 1, 100)   60100       ['reshape_1[0][0]']              \n",
            "                                                                                                  \n",
            " conv2d_4 (Conv2D)              (None, 9, 1, 100)    90100       ['reshape_1[0][0]']              \n",
            "                                                                                                  \n",
            " conv2d_5 (Conv2D)              (None, 8, 1, 100)    120100      ['reshape_1[0][0]']              \n",
            "                                                                                                  \n",
            " max_pooling2d_3 (MaxPooling2D)  (None, 1, 1, 100)   0           ['conv2d_3[0][0]']               \n",
            "                                                                                                  \n",
            " max_pooling2d_4 (MaxPooling2D)  (None, 1, 1, 100)   0           ['conv2d_4[0][0]']               \n",
            "                                                                                                  \n",
            " max_pooling2d_5 (MaxPooling2D)  (None, 1, 1, 100)   0           ['conv2d_5[0][0]']               \n",
            "                                                                                                  \n",
            " concatenate_1 (Concatenate)    (None, 3, 1, 100)    0           ['max_pooling2d_3[0][0]',        \n",
            "                                                                  'max_pooling2d_4[0][0]',        \n",
            "                                                                  'max_pooling2d_5[0][0]']        \n",
            "                                                                                                  \n",
            " flatten_1 (Flatten)            (None, 300)          0           ['concatenate_1[0][0]']          \n",
            "                                                                                                  \n",
            " dense_2 (Dense)                (None, 100)          30100       ['flatten_1[0][0]']              \n",
            "                                                                                                  \n",
            " dense_3 (Dense)                (None, 52)           5252        ['dense_2[0][0]']                \n",
            "                                                                                                  \n",
            "==================================================================================================\n",
            "Total params: 305,652\n",
            "Trainable params: 305,652\n",
            "Non-trainable params: 0\n",
            "__________________________________________________________________________________________________\n"
          ]
        }
      ],
      "source": [
        "model = tf.keras.models.Model(inputs, clf)\n",
        "model.compile(loss='categorical_crossentropy', optimizer='adam', metrics=['acc'])\n",
        "model.summary()"
      ]
    },
    {
      "cell_type": "markdown",
      "source": [
        "#### We will draw our model to see it on an image"
      ],
      "metadata": {
        "id": "joyLO14tPm4r"
      }
    },
    {
      "cell_type": "code",
      "execution_count": 58,
      "metadata": {
        "colab": {
          "base_uri": "https://localhost:8080/"
        },
        "id": "_FaqTpXcqQpq",
        "outputId": "39462344-b83e-4e77-d793-b3ea6deab130"
      },
      "outputs": [
        {
          "output_type": "stream",
          "name": "stdout",
          "text": [
            "Looking in indexes: https://pypi.org/simple, https://us-python.pkg.dev/colab-wheels/public/simple/\n",
            "Requirement already satisfied: pydot in /usr/local/lib/python3.7/dist-packages (1.3.0)\n",
            "Requirement already satisfied: graphviz in /usr/local/lib/python3.7/dist-packages (0.10.1)\n",
            "Requirement already satisfied: pyparsing>=2.1.4 in /usr/local/lib/python3.7/dist-packages (from pydot) (3.0.9)\n"
          ]
        }
      ],
      "source": [
        "!pip install pydot graphviz"
      ]
    },
    {
      "cell_type": "code",
      "execution_count": 59,
      "metadata": {
        "colab": {
          "base_uri": "https://localhost:8080/",
          "height": 758
        },
        "id": "9gmgSUeBqQtD",
        "outputId": "429e5488-81ed-43fd-db88-39b5c459e689"
      },
      "outputs": [
        {
          "output_type": "execute_result",
          "data": {
            "text/plain": [
              "<IPython.core.display.Image object>"
            ],
            "image/png": "[encoded data removed]"
          },
          "metadata": {},
          "execution_count": 59
        }
      ],
      "source": [
        "tf.keras.utils.plot_model(\n",
        "    model, show_shapes=False, show_layer_names=True,\n",
        "    rankdir='TB', expand_nested=False, dpi=96\n",
        ")"
      ]
    },
    {
      "cell_type": "markdown",
      "source": [
        "#### let's split the data and train our model"
      ],
      "metadata": {
        "id": "wX5EcqJHQfQ8"
      }
    },
    {
      "cell_type": "code",
      "execution_count": 60,
      "metadata": {
        "id": "wg6vZiFEqiAt"
      },
      "outputs": [],
      "source": [
        "from sklearn.model_selection import train_test_split\n",
        "\n",
        "x_train, x_test, y_train, y_test = train_test_split(data_emb, y_encoded, test_size=.2, random_state=42)"
      ]
    },
    {
      "cell_type": "code",
      "execution_count": 61,
      "metadata": {
        "colab": {
          "base_uri": "https://localhost:8080/"
        },
        "id": "Z8DV_xm7qjsu",
        "outputId": "b11eda4e-506b-4a8c-d292-9ea87eafc3dc"
      },
      "outputs": [
        {
          "output_type": "stream",
          "name": "stdout",
          "text": [
            "Epoch 1/23\n",
            "4/4 [==============================] - 1s 31ms/step - loss: 3.8912 - acc: 0.1261\n",
            "Epoch 2/23\n",
            "4/4 [==============================] - 0s 28ms/step - loss: 3.4665 - acc: 0.4874\n",
            "Epoch 3/23\n",
            "4/4 [==============================] - 0s 34ms/step - loss: 3.1224 - acc: 0.5378\n",
            "Epoch 4/23\n",
            "4/4 [==============================] - 0s 25ms/step - loss: 2.8502 - acc: 0.6050\n",
            "Epoch 5/23\n",
            "4/4 [==============================] - 0s 30ms/step - loss: 2.6090 - acc: 0.6723\n",
            "Epoch 6/23\n",
            "4/4 [==============================] - 0s 28ms/step - loss: 2.3886 - acc: 0.7143\n",
            "Epoch 7/23\n",
            "4/4 [==============================] - 0s 36ms/step - loss: 2.1624 - acc: 0.7563\n",
            "Epoch 8/23\n",
            "4/4 [==============================] - 0s 30ms/step - loss: 1.9831 - acc: 0.7983\n",
            "Epoch 9/23\n",
            "4/4 [==============================] - 0s 31ms/step - loss: 1.8262 - acc: 0.7899\n",
            "Epoch 10/23\n",
            "4/4 [==============================] - 0s 29ms/step - loss: 1.7100 - acc: 0.8235\n",
            "Epoch 11/23\n",
            "4/4 [==============================] - 0s 24ms/step - loss: 1.5804 - acc: 0.8319\n",
            "Epoch 12/23\n",
            "4/4 [==============================] - 0s 18ms/step - loss: 1.5076 - acc: 0.8319\n",
            "Epoch 13/23\n",
            "4/4 [==============================] - 0s 17ms/step - loss: 1.4013 - acc: 0.8487\n",
            "Epoch 14/23\n",
            "4/4 [==============================] - 0s 19ms/step - loss: 1.3117 - acc: 0.8487\n",
            "Epoch 15/23\n",
            "4/4 [==============================] - 0s 24ms/step - loss: 1.2314 - acc: 0.8571\n",
            "Epoch 16/23\n",
            "4/4 [==============================] - 0s 30ms/step - loss: 1.1340 - acc: 0.8403\n",
            "Epoch 17/23\n",
            "4/4 [==============================] - 0s 37ms/step - loss: 1.0476 - acc: 0.8487\n",
            "Epoch 18/23\n",
            "4/4 [==============================] - 0s 25ms/step - loss: 0.9481 - acc: 0.8319\n",
            "Epoch 19/23\n",
            "4/4 [==============================] - 0s 16ms/step - loss: 0.8411 - acc: 0.8403\n",
            "Epoch 20/23\n",
            "4/4 [==============================] - 0s 16ms/step - loss: 0.7512 - acc: 0.8319\n",
            "Epoch 21/23\n",
            "4/4 [==============================] - 0s 22ms/step - loss: 0.6418 - acc: 0.8487\n",
            "Epoch 22/23\n",
            "4/4 [==============================] - 0s 19ms/step - loss: 0.5409 - acc: 0.8403\n",
            "Epoch 23/23\n",
            "4/4 [==============================] - 0s 16ms/step - loss: 0.4637 - acc: 0.8403\n"
          ]
        },
        {
          "output_type": "execute_result",
          "data": {
            "text/plain": [
              "<keras.callbacks.History at 0x7f01f4c9f490>"
            ]
          },
          "metadata": {},
          "execution_count": 61
        }
      ],
      "source": [
        "# train our model\n",
        "model.fit(x_train, y_train, epochs=23)"
      ]
    },
    {
      "cell_type": "markdown",
      "source": [
        "#### making evaluation"
      ],
      "metadata": {
        "id": "CcM-lxCvQm1V"
      }
    },
    {
      "cell_type": "code",
      "execution_count": 62,
      "metadata": {
        "colab": {
          "base_uri": "https://localhost:8080/"
        },
        "id": "EM8MXeAoqjvC",
        "outputId": "4e34b142-13a1-497c-d26e-8b5a05acacbd"
      },
      "outputs": [
        {
          "output_type": "stream",
          "name": "stdout",
          "text": [
            "1/1 [==============================] - 0s 176ms/step - loss: 7.5859 - acc: 0.4333\n"
          ]
        },
        {
          "output_type": "execute_result",
          "data": {
            "text/plain": [
              "[7.5858869552612305, 0.4333333373069763]"
            ]
          },
          "metadata": {},
          "execution_count": 62
        }
      ],
      "source": [
        "model.evaluate(x_test, y_test)"
      ]
    },
    {
      "cell_type": "markdown",
      "source": [
        "The accuracy is low because we made a complexity model and we train it with a low size of data so we need a huge size of data to train it"
      ],
      "metadata": {
        "id": "Hh1Pt1rJRQQe"
      }
    },
    {
      "cell_type": "code",
      "execution_count": 63,
      "metadata": {
        "colab": {
          "base_uri": "https://localhost:8080/",
          "height": 35
        },
        "id": "U0xxiChOqjxU",
        "outputId": "0244193c-815e-4302-e9f3-70c52d9f71dc"
      },
      "outputs": [
        {
          "output_type": "execute_result",
          "data": {
            "text/plain": [
              "'Al Busayli'"
            ],
            "application/vnd.google.colaboratory.intrinsic+json": {
              "type": "string"
            }
          },
          "metadata": {},
          "execution_count": 63
        }
      ],
      "source": [
        "encoder.classes_[4]"
      ]
    },
    {
      "cell_type": "markdown",
      "source": [
        "#### Let's make some prediction"
      ],
      "metadata": {
        "id": "DTehiQSuSlQ6"
      }
    },
    {
      "cell_type": "code",
      "execution_count": 64,
      "metadata": {
        "colab": {
          "base_uri": "https://localhost:8080/"
        },
        "id": "RNlodcXsqj1J",
        "outputId": "362e6ace-150f-411f-cb3e-36d4beef004a"
      },
      "outputs": [
        {
          "output_type": "execute_result",
          "data": {
            "text/plain": [
              "array([[9.80089664e-01, 1.43756888e-05, 6.19172422e-11, 6.25874281e-06,\n",
              "        3.87940666e-15, 2.04281520e-07, 5.69032181e-07, 5.77308356e-07,\n",
              "        2.40107614e-08, 2.38594498e-06, 2.78247625e-09, 1.02077913e-03,\n",
              "        9.83893589e-09, 2.01889503e-12, 2.32437827e-07, 1.60075599e-11,\n",
              "        8.98735470e-06, 3.51239403e-04, 1.72810834e-02, 1.05653055e-06,\n",
              "        1.48484469e-06, 1.72408659e-06, 7.64686035e-07, 1.01456098e-05,\n",
              "        1.31587257e-07, 1.97363511e-06, 1.08211383e-03, 3.03891761e-06,\n",
              "        8.57347516e-07, 3.07397272e-07, 5.57185054e-08, 1.53408322e-07,\n",
              "        7.21959077e-05, 2.58773753e-07, 2.42133156e-05, 6.94392975e-06,\n",
              "        6.07569290e-12, 2.41585875e-12, 3.84155919e-06, 8.34485036e-06,\n",
              "        4.16028257e-07, 9.67404929e-08, 9.45092836e-07, 2.17632063e-07,\n",
              "        1.15218796e-07, 2.17323782e-06, 7.70950748e-10, 1.21411551e-14,\n",
              "        1.18757422e-08, 1.75869125e-10, 8.40785752e-09, 6.76402158e-14]],\n",
              "      dtype=float32)"
            ]
          },
          "metadata": {},
          "execution_count": 64
        }
      ],
      "source": [
        "text = \"Ahmed Ibn Hanbal Street\t\"\n",
        "text_v = np.zeros((1, longest_input, 300))\n",
        "for i, token in enumerate(nlp(text)):\n",
        "    if i>=longest_input:\n",
        "        break\n",
        "    text_v[0, i] = token.vector\n",
        "predictions = model.predict(text_v)\n",
        "predictions"
      ]
    },
    {
      "cell_type": "code",
      "execution_count": 65,
      "metadata": {
        "colab": {
          "base_uri": "https://localhost:8080/"
        },
        "id": "BepqGHYdrPWg",
        "outputId": "4c5d6726-7cec-4540-81f9-ed6a111b2fd1"
      },
      "outputs": [
        {
          "output_type": "execute_result",
          "data": {
            "text/plain": [
              "0"
            ]
          },
          "metadata": {},
          "execution_count": 65
        }
      ],
      "source": [
        "np.argmax(predictions)"
      ]
    },
    {
      "cell_type": "code",
      "execution_count": 66,
      "metadata": {
        "colab": {
          "base_uri": "https://localhost:8080/"
        },
        "id": "cdMeKZBrrPY2",
        "outputId": "75cfd629-8a39-47bb-b115-7f9d880048c0"
      },
      "outputs": [
        {
          "output_type": "stream",
          "name": "stdout",
          "text": [
            "('10th of Ramadan City', 0.98)\n",
            "('Abu Qir', 0.0)\n",
            "('Abu Simbel', 0.0)\n",
            "('Al Atawi', 0.0)\n",
            "('Al Busayli', 0.0)\n",
            "('Al Damairah', 0.0)\n",
            "('Al Hasayina', 0.0)\n",
            "('Al Helsamiya', 0.0)\n",
            "('Al Nubaria', 0.0)\n",
            "('Al-Mahmudiya', 0.0)\n",
            "('Al-Salheya Al-Gedida', 0.0)\n",
            "('Alexandria', 0.001)\n",
            "('Aswan', 0.0)\n",
            "('Atf Ifwah', 0.0)\n",
            "('Az Zarqa', 0.0)\n",
            "('Bahnabai', 0.0)\n",
            "('Beni Suef', 0.0)\n",
            "('Bilqas', 0.0)\n",
            "('Cairo', 0.017)\n",
            "('Dauwar Masri', 0.0)\n",
            "('El Senbellawein City', 0.0)\n",
            "('Ezab Arab al Tahawiya', 0.0)\n",
            "('Ezab Nubar', 0.0)\n",
            "('Hawsh Isa', 0.0)\n",
            "('Idku', 0.0)\n",
            "('Ihnasya al Madinah', 0.0)\n",
            "('Itay el-Barud', 0.001)\n",
            "('Izbat Abu Laban', 0.0)\n",
            "('Izbat Hasan Kasibah', 0.0)\n",
            "('Izbat Kawm al Kalakh', 0.0)\n",
            "('Izbat Musaid', 0.0)\n",
            "('Izbat Suwaylim', 0.0)\n",
            "('Izbat al Hakim', 0.0)\n",
            "('Izbat al Muhit', 0.0)\n",
            "('Izbat al Shaykh al Maraghi', 0.0)\n",
            "('Kafr Farag Girgis', 0.0)\n",
            "('Kafr Saqr', 0.0)\n",
            "('Minshat Safwat', 0.0)\n",
            "('Minya Al-Qamh', 0.0)\n",
            "('Mit Yazid', 0.0)\n",
            "('Mit al Khawli Abd Allah', 0.0)\n",
            "('Naj al Hawsh', 0.0)\n",
            "('Nazlet Abu Silim', 0.0)\n",
            "('Noub', 0.0)\n",
            "('Qaryat al Minasra', 0.0)\n",
            "('Ras Gharib', 0.0)\n",
            "('Sahara City', 0.0)\n",
            "('Sharahi', 0.0)\n",
            "('Shash Village', 0.0)\n",
            "('Wadi el Natroun', 0.0)\n",
            "('الجزائر', 0.0)\n",
            "('الكاجوج', 0.0)\n"
          ]
        }
      ],
      "source": [
        "for label, prob in zip(encoder.classes_, predictions[0]):\n",
        "    print((label, round(prob, 3)))"
      ]
    },
    {
      "cell_type": "code",
      "execution_count": 67,
      "metadata": {
        "id": "tgVOiu9hrPbL"
      },
      "outputs": [],
      "source": [
        "def predict_n_gram(text):\n",
        "    text_v = np.zeros((1, longest_input, 300))\n",
        "    for i, token in enumerate(nlp(text)):\n",
        "        if i>=longest_input:\n",
        "            break\n",
        "        text_v[0, i] = token.vector\n",
        "    # predict the input \n",
        "    prediction = model.predict(text_v)\n",
        "    label = encoder.classes_[np.argmax(prediction)]\n",
        "    return label"
      ]
    },
    {
      "cell_type": "code",
      "execution_count": 68,
      "metadata": {
        "colab": {
          "base_uri": "https://localhost:8080/",
          "height": 35
        },
        "id": "VvCHUA9qrPdo",
        "outputId": "7c195a27-a446-47d7-f561-3d965d734150"
      },
      "outputs": [
        {
          "output_type": "execute_result",
          "data": {
            "text/plain": [
              "'Cairo'"
            ],
            "application/vnd.google.colaboratory.intrinsic+json": {
              "type": "string"
            }
          },
          "metadata": {},
          "execution_count": 68
        }
      ],
      "source": [
        "predict_n_gram('انا اسكن فى التجمع الخامس')"
      ]
    },
    {
      "cell_type": "code",
      "execution_count": 69,
      "metadata": {
        "colab": {
          "base_uri": "https://localhost:8080/",
          "height": 35
        },
        "id": "LWWy_Hf2rPhH",
        "outputId": "62809ccf-616a-4353-f280-09f67aac24bc"
      },
      "outputs": [
        {
          "output_type": "execute_result",
          "data": {
            "text/plain": [
              "'Cairo'"
            ],
            "application/vnd.google.colaboratory.intrinsic+json": {
              "type": "string"
            }
          },
          "metadata": {},
          "execution_count": 69
        }
      ],
      "source": [
        "predict_n_gram(\"انا اسمى ايات و انا اذهب للجمالية صباحا\")"
      ]
    },
    {
      "cell_type": "code",
      "execution_count": 70,
      "metadata": {
        "colab": {
          "base_uri": "https://localhost:8080/",
          "height": 35
        },
        "id": "l7Lj15C4rsr4",
        "outputId": "cf06f8ca-3504-404e-a2da-1b3206804623"
      },
      "outputs": [
        {
          "output_type": "execute_result",
          "data": {
            "text/plain": [
              "'Cairo'"
            ],
            "application/vnd.google.colaboratory.intrinsic+json": {
              "type": "string"
            }
          },
          "metadata": {},
          "execution_count": 70
        }
      ],
      "source": [
        "predict_n_gram(\"شبرا\")"
      ]
    },
    {
      "cell_type": "code",
      "execution_count": 71,
      "metadata": {
        "colab": {
          "base_uri": "https://localhost:8080/",
          "height": 35
        },
        "id": "WsZK7SH4rvCr",
        "outputId": "64e18c3a-d011-43d1-885f-a8fbfe4d08f7"
      },
      "outputs": [
        {
          "output_type": "execute_result",
          "data": {
            "text/plain": [
              "'Al Helsamiya'"
            ],
            "application/vnd.google.colaboratory.intrinsic+json": {
              "type": "string"
            }
          },
          "metadata": {},
          "execution_count": 71
        }
      ],
      "source": [
        "predict_n_gram(\"Teraa Al Saeidia احب ان اذهب الى\")"
      ]
    },
    {
      "cell_type": "code",
      "execution_count": 72,
      "metadata": {
        "colab": {
          "base_uri": "https://localhost:8080/",
          "height": 35
        },
        "id": "2Y7b8E4BrvEv",
        "outputId": "73e4c9d0-075a-4586-acda-5778b392c8d8"
      },
      "outputs": [
        {
          "output_type": "execute_result",
          "data": {
            "text/plain": [
              "'Minya Al-Qamh'"
            ],
            "application/vnd.google.colaboratory.intrinsic+json": {
              "type": "string"
            }
          },
          "metadata": {},
          "execution_count": 72
        }
      ],
      "source": [
        "predict_n_gram(\"Al Moustafa Street انا اعيش فى\")"
      ]
    },
    {
      "cell_type": "markdown",
      "source": [
        "#### let's save our model to use it in a simple HTTP API"
      ],
      "metadata": {
        "id": "8Oo-IjepWKkW"
      }
    },
    {
      "cell_type": "code",
      "source": [
        "np.save('classes.npy', encoder.classes_)"
      ],
      "metadata": {
        "id": "kR5Fr5SLzQmB"
      },
      "execution_count": 74,
      "outputs": []
    },
    {
      "cell_type": "code",
      "execution_count": 75,
      "metadata": {
        "id": "WwPoqa38rvKS",
        "colab": {
          "base_uri": "https://localhost:8080/"
        },
        "outputId": "8a0d012e-6ae0-4dd4-fd0f-9e46248fa376"
      },
      "outputs": [
        {
          "output_type": "stream",
          "name": "stdout",
          "text": [
            "INFO:tensorflow:Assets written to: /content/drive/MyDrive/Colab Notebooks/Data Files/saved_model/my_model/assets\n"
          ]
        }
      ],
      "source": [
        "!mkdir -p saved_model\n",
        "model.save('/content/drive/MyDrive/Colab Notebooks/Data Files/saved_model/my_model')"
      ]
    },
    {
      "cell_type": "code",
      "source": [
        "from joblib import dump, load"
      ],
      "metadata": {
        "id": "G8ruxlROON8W"
      },
      "execution_count": 76,
      "outputs": []
    },
    {
      "cell_type": "code",
      "source": [
        "dump(model,'model.joblib')"
      ],
      "metadata": {
        "id": "n15CBzF5OOHR",
        "colab": {
          "base_uri": "https://localhost:8080/"
        },
        "outputId": "c22484fb-19e1-4030-aa0f-8c2268005011"
      },
      "execution_count": 77,
      "outputs": [
        {
          "output_type": "stream",
          "name": "stdout",
          "text": [
            "INFO:tensorflow:Assets written to: ram://835db75b-11af-48cf-a94f-3689a0558277/assets\n"
          ]
        },
        {
          "output_type": "execute_result",
          "data": {
            "text/plain": [
              "['model.joblib']"
            ]
          },
          "metadata": {},
          "execution_count": 77
        }
      ]
    },
    {
      "cell_type": "markdown",
      "source": [
        "###The End"
      ],
      "metadata": {
        "id": "8t5wbhGoXAIk"
      }
    }
  ],
  "metadata": {
    "colab": {
      "name": "NLP_TASK for ML Job.ipynb",
      "provenance": []
    },
    "kernelspec": {
      "display_name": "Python 3",
      "name": "python3"
    },
    "language_info": {
      "name": "python"
    },
    "widgets": {
      "application/vnd.jupyter.widget-state+json": {
        "ad7ebc090684485791b684c3df3f3071": {
          "model_module": "@jupyter-widgets/controls",
          "model_name": "HBoxModel",
          "model_module_version": "1.5.0",
          "state": {
            "_dom_classes": [],
            "_model_module": "@jupyter-widgets/controls",
            "_model_module_version": "1.5.0",
            "_model_name": "HBoxModel",
            "_view_count": null,
            "_view_module": "@jupyter-widgets/controls",
            "_view_module_version": "1.5.0",
            "_view_name": "HBoxView",
            "box_style": "",
            "children": [
              "IPY_MODEL_ea4b5d95c4834f2d8f936565dafc92f1",
              "IPY_MODEL_15fc3b9673184e918592b92dfda14cb1",
              "IPY_MODEL_e5548f782fbe4fa885cfe857ba93b378"
            ],
            "layout": "IPY_MODEL_a17086d57e8340fab1f5742cf4c9820a"
          }
        },
        "ea4b5d95c4834f2d8f936565dafc92f1": {
          "model_module": "@jupyter-widgets/controls",
          "model_name": "HTMLModel",
          "model_module_version": "1.5.0",
          "state": {
            "_dom_classes": [],
            "_model_module": "@jupyter-widgets/controls",
            "_model_module_version": "1.5.0",
            "_model_name": "HTMLModel",
            "_view_count": null,
            "_view_module": "@jupyter-widgets/controls",
            "_view_module_version": "1.5.0",
            "_view_name": "HTMLView",
            "description": "",
            "description_tooltip": null,
            "layout": "IPY_MODEL_be707fff63174435a23ed02716432862",
            "placeholder": "​",
            "style": "IPY_MODEL_50b57618fcad4f5eabb22baf50d10b4a",
            "value": "100%"
          }
        },
        "15fc3b9673184e918592b92dfda14cb1": {
          "model_module": "@jupyter-widgets/controls",
          "model_name": "FloatProgressModel",
          "model_module_version": "1.5.0",
          "state": {
            "_dom_classes": [],
            "_model_module": "@jupyter-widgets/controls",
            "_model_module_version": "1.5.0",
            "_model_name": "FloatProgressModel",
            "_view_count": null,
            "_view_module": "@jupyter-widgets/controls",
            "_view_module_version": "1.5.0",
            "_view_name": "ProgressView",
            "bar_style": "success",
            "description": "",
            "description_tooltip": null,
            "layout": "IPY_MODEL_d7c3a483db264d12bdca12b734003750",
            "max": 149,
            "min": 0,
            "orientation": "horizontal",
            "style": "IPY_MODEL_4a093955072e4211b11026d007da4b31",
            "value": 149
          }
        },
        "e5548f782fbe4fa885cfe857ba93b378": {
          "model_module": "@jupyter-widgets/controls",
          "model_name": "HTMLModel",
          "model_module_version": "1.5.0",
          "state": {
            "_dom_classes": [],
            "_model_module": "@jupyter-widgets/controls",
            "_model_module_version": "1.5.0",
            "_model_name": "HTMLModel",
            "_view_count": null,
            "_view_module": "@jupyter-widgets/controls",
            "_view_module_version": "1.5.0",
            "_view_name": "HTMLView",
            "description": "",
            "description_tooltip": null,
            "layout": "IPY_MODEL_d2d07471a92a4c5faf1ee87880a9a4a0",
            "placeholder": "​",
            "style": "IPY_MODEL_099e0caf3f3246ad891c163ffdf09617",
            "value": " 149/149 [00:00&lt;00:00,  3.06it/s]"
          }
        },
        "a17086d57e8340fab1f5742cf4c9820a": {
          "model_module": "@jupyter-widgets/base",
          "model_name": "LayoutModel",
          "model_module_version": "1.2.0",
          "state": {
            "_model_module": "@jupyter-widgets/base",
            "_model_module_version": "1.2.0",
            "_model_name": "LayoutModel",
            "_view_count": null,
            "_view_module": "@jupyter-widgets/base",
            "_view_module_version": "1.2.0",
            "_view_name": "LayoutView",
            "align_content": null,
            "align_items": null,
            "align_self": null,
            "border": null,
            "bottom": null,
            "display": null,
            "flex": null,
            "flex_flow": null,
            "grid_area": null,
            "grid_auto_columns": null,
            "grid_auto_flow": null,
            "grid_auto_rows": null,
            "grid_column": null,
            "grid_gap": null,
            "grid_row": null,
            "grid_template_areas": null,
            "grid_template_columns": null,
            "grid_template_rows": null,
            "height": null,
            "justify_content": null,
            "justify_items": null,
            "left": null,
            "margin": null,
            "max_height": null,
            "max_width": null,
            "min_height": null,
            "min_width": null,
            "object_fit": null,
            "object_position": null,
            "order": null,
            "overflow": null,
            "overflow_x": null,
            "overflow_y": null,
            "padding": null,
            "right": null,
            "top": null,
            "visibility": null,
            "width": null
          }
        },
        "be707fff63174435a23ed02716432862": {
          "model_module": "@jupyter-widgets/base",
          "model_name": "LayoutModel",
          "model_module_version": "1.2.0",
          "state": {
            "_model_module": "@jupyter-widgets/base",
            "_model_module_version": "1.2.0",
            "_model_name": "LayoutModel",
            "_view_count": null,
            "_view_module": "@jupyter-widgets/base",
            "_view_module_version": "1.2.0",
            "_view_name": "LayoutView",
            "align_content": null,
            "align_items": null,
            "align_self": null,
            "border": null,
            "bottom": null,
            "display": null,
            "flex": null,
            "flex_flow": null,
            "grid_area": null,
            "grid_auto_columns": null,
            "grid_auto_flow": null,
            "grid_auto_rows": null,
            "grid_column": null,
            "grid_gap": null,
            "grid_row": null,
            "grid_template_areas": null,
            "grid_template_columns": null,
            "grid_template_rows": null,
            "height": null,
            "justify_content": null,
            "justify_items": null,
            "left": null,
            "margin": null,
            "max_height": null,
            "max_width": null,
            "min_height": null,
            "min_width": null,
            "object_fit": null,
            "object_position": null,
            "order": null,
            "overflow": null,
            "overflow_x": null,
            "overflow_y": null,
            "padding": null,
            "right": null,
            "top": null,
            "visibility": null,
            "width": null
          }
        },
        "50b57618fcad4f5eabb22baf50d10b4a": {
          "model_module": "@jupyter-widgets/controls",
          "model_name": "DescriptionStyleModel",
          "model_module_version": "1.5.0",
          "state": {
            "_model_module": "@jupyter-widgets/controls",
            "_model_module_version": "1.5.0",
            "_model_name": "DescriptionStyleModel",
            "_view_count": null,
            "_view_module": "@jupyter-widgets/base",
            "_view_module_version": "1.2.0",
            "_view_name": "StyleView",
            "description_width": ""
          }
        },
        "d7c3a483db264d12bdca12b734003750": {
          "model_module": "@jupyter-widgets/base",
          "model_name": "LayoutModel",
          "model_module_version": "1.2.0",
          "state": {
            "_model_module": "@jupyter-widgets/base",
            "_model_module_version": "1.2.0",
            "_model_name": "LayoutModel",
            "_view_count": null,
            "_view_module": "@jupyter-widgets/base",
            "_view_module_version": "1.2.0",
            "_view_name": "LayoutView",
            "align_content": null,
            "align_items": null,
            "align_self": null,
            "border": null,
            "bottom": null,
            "display": null,
            "flex": null,
            "flex_flow": null,
            "grid_area": null,
            "grid_auto_columns": null,
            "grid_auto_flow": null,
            "grid_auto_rows": null,
            "grid_column": null,
            "grid_gap": null,
            "grid_row": null,
            "grid_template_areas": null,
            "grid_template_columns": null,
            "grid_template_rows": null,
            "height": null,
            "justify_content": null,
            "justify_items": null,
            "left": null,
            "margin": null,
            "max_height": null,
            "max_width": null,
            "min_height": null,
            "min_width": null,
            "object_fit": null,
            "object_position": null,
            "order": null,
            "overflow": null,
            "overflow_x": null,
            "overflow_y": null,
            "padding": null,
            "right": null,
            "top": null,
            "visibility": null,
            "width": null
          }
        },
        "4a093955072e4211b11026d007da4b31": {
          "model_module": "@jupyter-widgets/controls",
          "model_name": "ProgressStyleModel",
          "model_module_version": "1.5.0",
          "state": {
            "_model_module": "@jupyter-widgets/controls",
            "_model_module_version": "1.5.0",
            "_model_name": "ProgressStyleModel",
            "_view_count": null,
            "_view_module": "@jupyter-widgets/base",
            "_view_module_version": "1.2.0",
            "_view_name": "StyleView",
            "bar_color": null,
            "description_width": ""
          }
        },
        "d2d07471a92a4c5faf1ee87880a9a4a0": {
          "model_module": "@jupyter-widgets/base",
          "model_name": "LayoutModel",
          "model_module_version": "1.2.0",
          "state": {
            "_model_module": "@jupyter-widgets/base",
            "_model_module_version": "1.2.0",
            "_model_name": "LayoutModel",
            "_view_count": null,
            "_view_module": "@jupyter-widgets/base",
            "_view_module_version": "1.2.0",
            "_view_name": "LayoutView",
            "align_content": null,
            "align_items": null,
            "align_self": null,
            "border": null,
            "bottom": null,
            "display": null,
            "flex": null,
            "flex_flow": null,
            "grid_area": null,
            "grid_auto_columns": null,
            "grid_auto_flow": null,
            "grid_auto_rows": null,
            "grid_column": null,
            "grid_gap": null,
            "grid_row": null,
            "grid_template_areas": null,
            "grid_template_columns": null,
            "grid_template_rows": null,
            "height": null,
            "justify_content": null,
            "justify_items": null,
            "left": null,
            "margin": null,
            "max_height": null,
            "max_width": null,
            "min_height": null,
            "min_width": null,
            "object_fit": null,
            "object_position": null,
            "order": null,
            "overflow": null,
            "overflow_x": null,
            "overflow_y": null,
            "padding": null,
            "right": null,
            "top": null,
            "visibility": null,
            "width": null
          }
        },
        "099e0caf3f3246ad891c163ffdf09617": {
          "model_module": "@jupyter-widgets/controls",
          "model_name": "DescriptionStyleModel",
          "model_module_version": "1.5.0",
          "state": {
            "_model_module": "@jupyter-widgets/controls",
            "_model_module_version": "1.5.0",
            "_model_name": "DescriptionStyleModel",
            "_view_count": null,
            "_view_module": "@jupyter-widgets/base",
            "_view_module_version": "1.2.0",
            "_view_name": "StyleView",
            "description_width": ""
          }
        }
      }
    }
  },
  "nbformat": 4,
  "nbformat_minor": 0
}